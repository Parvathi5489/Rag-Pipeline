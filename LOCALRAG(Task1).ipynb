{
 "cells": [
  {
   "cell_type": "markdown",
   "metadata": {},
   "source": [
    "# Retrieval-Augmented Generation (RAG) Pipeline with PDF Data\n",
    "\n",
    "This notebook demonstrates a Retrieval-Augmented Generation (RAG) pipeline for interacting with PDF documents.\n",
    "The goal is to extract structured data from PDFs, chunk the data, generate embeddings, and perform retrieval-augmented query answering.\n",
    "\n",
    "The steps include:\n",
    "1. Extracting text and structured data from PDF.\n",
    "2. Chunking and embedding the data.\n",
    "3. Storing the data in a vector database for efficient similarity-based retrieval.\n",
    "4. Answering user queries with the aid of a language model (LLM).\n",
    "\n",
    "The tools used include `PyMuPDF`, `pdfplumber`, `sentence-transformers`, and `FAISS`."
   ]
  },
  {
   "cell_type": "code",
   "execution_count": 1,
   "id": "7a029a24",
   "metadata": {},
   "outputs": [],
   "source": [
    "import fitz  # PyMuPDF for PDF text extraction\n",
    "import pdfplumber\n",
    "from sentence_transformers import SentenceTransformer\n",
    "import faiss\n",
    "import numpy as np\n",
    "\n",
    "# Step 1: Extracting text from the PDF\n",
    "def extract_text_from_pdf(pdf_path):\n",
    "    doc = fitz.open(pdf_path)\n",
    "    text = \"\"\n",
    "    for page in doc:\n",
    "        text += page.get_text()\n",
    "    return text\n",
    "\n",
    "# Step 2: Extracting tables (use pdfplumber for tables)\n",
    "def extract_tables_from_pdf(pdf_path):\n",
    "    with pdfplumber.open(pdf_path) as pdf:\n",
    "        tables = []\n",
    "        for page in pdf.pages:\n",
    "            tables.append(page.extract_tables())\n",
    "    return tables"
   ]
  },
  {
   "cell_type": "code",
   "execution_count": 2,
   "id": "5ed4b180",
   "metadata": {},
   "outputs": [],
   "source": [
    "# Step 3: Chunking and Embedding Text\n",
    "model = SentenceTransformer('all-MiniLM-L6-v2')\n",
    "\n",
    "def chunk_and_embed_text(text):\n",
    "    chunks = text.split(\"\\n\\n\")  # Simple text chunking based on paragraphs\n",
    "    embeddings = model.encode(chunks)\n",
    "    return chunks, embeddings"
   ]
  },
  {
   "cell_type": "code",
   "execution_count": 3,
   "id": "e052a96f",
   "metadata": {},
   "outputs": [],
   "source": [
    "# Step 4: Store embeddings in FAISS for similarity search\n",
    "def create_faiss_index(embeddings):\n",
    "    index = faiss.IndexFlatL2(embeddings.shape[1])  # Create FAISS index\n",
    "    index.add(embeddings)\n",
    "    return index"
   ]
  },
  {
   "cell_type": "code",
   "execution_count": 4,
   "id": "b66c7c6b",
   "metadata": {},
   "outputs": [],
   "source": [
    "# Step 5: Query Processing\n",
    "def search_query(query, index, chunks):\n",
    "    query_embedding = model.encode([query])\n",
    "    D, I = index.search(query_embedding, k=5)  # Search for the 5 closest matches\n",
    "    result_chunks = [chunks[i] for i in I[0]]\n",
    "    return result_chunks"
   ]
  },
  {
   "cell_type": "markdown",
   "metadata": {},
   "source": [
    "## Example Usage\n",
    "\n",
    "Below is an example of how to use the functions defined in this notebook.\n",
    "\n",
    "1. Extract text and tables from a PDF file.\n",
    "2. Chunk and embed the text.\n",
    "3. Store the embeddings in a FAISS index.\n",
    "4. Query the system and retrieve relevant chunks.\n",
    "\n",
    "### Example:\n",
    "```python\n",
    "pdf_path = \"path_to_pdf.pdf\"\n",
    "pdf_text = extract_text_from_pdf(pdf_path)\n",
    "pdf_chunks, pdf_embeddings = chunk_and_embed_text(pdf_text)\n",
    "\n",
    "# Create FAISS index and add embeddings\n",
    "index = create_faiss_index(np.array(pdf_embeddings))\n",
    "\n",
    "# Query the system\n",
    "user_query = \"What is the unemployment rate for people with a high school degree?\"\n",
    "retrieved_chunks = search_query(user_query, index, pdf_chunks)\n",
    "\n",
    "# Print the retrieved chunks for review\n",
    "print(retrieved_chunks)\n",
    "```\n"
   ]
  }
 ],
 "metadata": {
  "kernelspec": {
   "display_name": "Python 3",
   "language": "python",
   "name": "python3"
  },
  "language_info": {
   "codemirror_mode": {
    "name": "ipython",
    "version": 3
   },
   "file_extension": ".py",
   "mimetype": "text/x-python",
   "name": "python",
   "nbconvert_exporter": "python",
   "version": "3.8.10"
  }
 },
 "nbformat": 4,
 "nbformat_minor": 5
}
